{
 "cells": [
  {
   "cell_type": "markdown",
   "metadata": {
    "papermill": {
     "duration": 0.021049,
     "end_time": "2021-06-30T14:36:04.138664",
     "exception": false,
     "start_time": "2021-06-30T14:36:04.117615",
     "status": "completed"
    },
    "tags": []
   },
   "source": [
    "## Two recommendation system included\n",
    "1)  Anime based, shows upon completion of a particular anime  <br>\n",
    "2)  User based, shows on subscriber home page\n",
    "\n",
    "## Program structure\n",
    "1)  Dataset importing and processing <br>\n",
    "2)  Anime based recommendation system <br>\n",
    "3)  User based recommendation system"
   ]
  },
  {
   "cell_type": "code",
   "execution_count": 1,
   "metadata": {
    "execution": {
     "iopub.execute_input": "2021-06-30T14:36:04.183602Z",
     "iopub.status.busy": "2021-06-30T14:36:04.181925Z",
     "iopub.status.idle": "2021-06-30T14:36:05.399110Z",
     "shell.execute_reply": "2021-06-30T14:36:05.399590Z",
     "shell.execute_reply.started": "2021-06-30T14:34:02.908188Z"
    },
    "papermill": {
     "duration": 1.241452,
     "end_time": "2021-06-30T14:36:05.399874",
     "exception": false,
     "start_time": "2021-06-30T14:36:04.158422",
     "status": "completed"
    },
    "tags": []
   },
   "outputs": [],
   "source": [
    "import pandas as pd \r\n",
    "import numpy as np\r\n",
    "from sklearn.neighbors import NearestNeighbors\r\n",
    "from scipy.sparse import csr_matrix\r\n",
    "from difflib import get_close_matches\r\n"
   ]
  },
  {
   "cell_type": "markdown",
   "metadata": {
    "papermill": {
     "duration": 0.019292,
     "end_time": "2021-06-30T14:36:05.438987",
     "exception": false,
     "start_time": "2021-06-30T14:36:05.419695",
     "status": "completed"
    },
    "tags": []
   },
   "source": [
    "### Import anime_name dataset"
   ]
  },
  {
   "cell_type": "code",
   "execution_count": 2,
   "metadata": {
    "execution": {
     "iopub.execute_input": "2021-06-30T14:36:05.481045Z",
     "iopub.status.busy": "2021-06-30T14:36:05.480473Z",
     "iopub.status.idle": "2021-06-30T14:36:05.674232Z",
     "shell.execute_reply": "2021-06-30T14:36:05.674704Z",
     "shell.execute_reply.started": "2021-06-30T14:34:04.326242Z"
    },
    "papermill": {
     "duration": 0.216094,
     "end_time": "2021-06-30T14:36:05.674874",
     "exception": false,
     "start_time": "2021-06-30T14:36:05.458780",
     "status": "completed"
    },
    "tags": []
   },
   "outputs": [
    {
     "data": {
      "text/plain": [
       "(17562, 2)"
      ]
     },
     "metadata": {},
     "output_type": "display_data"
    },
    {
     "data": {
      "text/html": [
       "<div>\n",
       "<style scoped>\n",
       "    .dataframe tbody tr th:only-of-type {\n",
       "        vertical-align: middle;\n",
       "    }\n",
       "\n",
       "    .dataframe tbody tr th {\n",
       "        vertical-align: top;\n",
       "    }\n",
       "\n",
       "    .dataframe thead th {\n",
       "        text-align: right;\n",
       "    }\n",
       "</style>\n",
       "<table border=\"1\" class=\"dataframe\">\n",
       "  <thead>\n",
       "    <tr style=\"text-align: right;\">\n",
       "      <th></th>\n",
       "      <th>MAL_ID</th>\n",
       "      <th>Name</th>\n",
       "    </tr>\n",
       "  </thead>\n",
       "  <tbody>\n",
       "    <tr>\n",
       "      <th>0</th>\n",
       "      <td>1</td>\n",
       "      <td>Cowboy Bebop</td>\n",
       "    </tr>\n",
       "    <tr>\n",
       "      <th>1</th>\n",
       "      <td>5</td>\n",
       "      <td>Cowboy Bebop: Tengoku no Tobira</td>\n",
       "    </tr>\n",
       "  </tbody>\n",
       "</table>\n",
       "</div>"
      ],
      "text/plain": [
       "   MAL_ID                             Name\n",
       "0       1                     Cowboy Bebop\n",
       "1       5  Cowboy Bebop: Tengoku no Tobira"
      ]
     },
     "execution_count": 2,
     "metadata": {},
     "output_type": "execute_result"
    }
   ],
   "source": [
    "animeName = pd.read_csv('../input/anime-recommendation-database-2020/anime.csv', usecols=['MAL_ID','Name'])\n",
    "\n",
    "display(animeName.shape)\n",
    "animeName.head(2)"
   ]
  },
  {
   "cell_type": "code",
   "execution_count": 3,
   "metadata": {
    "execution": {
     "iopub.execute_input": "2021-06-30T14:36:05.719078Z",
     "iopub.status.busy": "2021-06-30T14:36:05.718485Z",
     "iopub.status.idle": "2021-06-30T14:36:05.725659Z",
     "shell.execute_reply": "2021-06-30T14:36:05.726112Z",
     "shell.execute_reply.started": "2021-06-30T14:34:04.616374Z"
    },
    "papermill": {
     "duration": 0.030565,
     "end_time": "2021-06-30T14:36:05.726294",
     "exception": false,
     "start_time": "2021-06-30T14:36:05.695729",
     "status": "completed"
    },
    "tags": []
   },
   "outputs": [
    {
     "name": "stdout",
     "output_type": "stream",
     "text": [
      "Number of missing anime name:  0\n"
     ]
    }
   ],
   "source": [
    "print(\"Number of missing anime name: \", animeName.isna().sum()[1])"
   ]
  },
  {
   "cell_type": "markdown",
   "metadata": {
    "papermill": {
     "duration": 0.020177,
     "end_time": "2021-06-30T14:36:05.767252",
     "exception": false,
     "start_time": "2021-06-30T14:36:05.747075",
     "status": "completed"
    },
    "tags": []
   },
   "source": [
    "### Functions for interacting with anime dataset"
   ]
  },
  {
   "cell_type": "code",
   "execution_count": 4,
   "metadata": {
    "execution": {
     "iopub.execute_input": "2021-06-30T14:36:05.843671Z",
     "iopub.status.busy": "2021-06-30T14:36:05.838326Z",
     "iopub.status.idle": "2021-06-30T14:36:05.910522Z",
     "shell.execute_reply": "2021-06-30T14:36:05.911017Z",
     "shell.execute_reply.started": "2021-06-30T13:21:22.981944Z"
    },
    "papermill": {
     "duration": 0.12344,
     "end_time": "2021-06-30T14:36:05.911207",
     "exception": false,
     "start_time": "2021-06-30T14:36:05.787767",
     "status": "completed"
    },
    "tags": []
   },
   "outputs": [
    {
     "name": "stdout",
     "output_type": "stream",
     "text": [
      "1\n"
     ]
    },
    {
     "data": {
      "text/plain": [
       "'Cowboy Bebop'"
      ]
     },
     "execution_count": 4,
     "metadata": {},
     "output_type": "execute_result"
    }
   ],
   "source": [
    "def getAnimeIdByName(name):\n",
    "    try:\n",
    "        return animeName['MAL_ID'][animeName[\"Name\"] == name].item()\n",
    "    except:\n",
    "        # if no extact match, get closest \n",
    "        closest = get_close_matches(name, animeName[\"Name\"].to_numpy())[0]  # anime name\n",
    "#         print(f\"closest anime = {closest}\")\n",
    "        return getAnimeIdByName(closest)    # return anime ID\n",
    "\n",
    "def getAnimeNameById(id):\n",
    "    try:\n",
    "        return animeName['Name'][animeName['MAL_ID'] == id].item()\n",
    "    except:\n",
    "#         print(\"NO RECORD\", inputAnimeName)\n",
    "        return None\n",
    "        \n",
    "# example\n",
    "id = getAnimeIdByName(\"Cowboy Bebop \")\n",
    "print(id)\n",
    "getAnimeNameById(id)"
   ]
  },
  {
   "cell_type": "markdown",
   "metadata": {
    "papermill": {
     "duration": 0.02102,
     "end_time": "2021-06-30T14:36:05.953393",
     "exception": false,
     "start_time": "2021-06-30T14:36:05.932373",
     "status": "completed"
    },
    "tags": []
   },
   "source": [
    "### Import rating complete dataset\n",
    "rating_complete.csv is a subset of animelist.csv. This dataset only considers animes that the user has watched completely (watching_status==2) and gave it a score (score!=0). This dataset contains 57 Million ratings applied to 16.872 animes by 310.059 users."
   ]
  },
  {
   "cell_type": "code",
   "execution_count": 5,
   "metadata": {
    "execution": {
     "iopub.execute_input": "2021-06-30T14:36:05.999763Z",
     "iopub.status.busy": "2021-06-30T14:36:05.999132Z",
     "iopub.status.idle": "2021-06-30T14:36:27.038569Z",
     "shell.execute_reply": "2021-06-30T14:36:27.037481Z",
     "shell.execute_reply.started": "2021-06-30T13:22:59.816831Z"
    },
    "papermill": {
     "duration": 21.063953,
     "end_time": "2021-06-30T14:36:27.038814",
     "exception": false,
     "start_time": "2021-06-30T14:36:05.974861",
     "status": "completed"
    },
    "tags": []
   },
   "outputs": [
    {
     "data": {
      "text/plain": [
       "(57633278, 3)"
      ]
     },
     "metadata": {},
     "output_type": "display_data"
    },
    {
     "data": {
      "text/html": [
       "<div>\n",
       "<style scoped>\n",
       "    .dataframe tbody tr th:only-of-type {\n",
       "        vertical-align: middle;\n",
       "    }\n",
       "\n",
       "    .dataframe tbody tr th {\n",
       "        vertical-align: top;\n",
       "    }\n",
       "\n",
       "    .dataframe thead th {\n",
       "        text-align: right;\n",
       "    }\n",
       "</style>\n",
       "<table border=\"1\" class=\"dataframe\">\n",
       "  <thead>\n",
       "    <tr style=\"text-align: right;\">\n",
       "      <th></th>\n",
       "      <th>user_id</th>\n",
       "      <th>anime_id</th>\n",
       "      <th>rating</th>\n",
       "    </tr>\n",
       "  </thead>\n",
       "  <tbody>\n",
       "    <tr>\n",
       "      <th>0</th>\n",
       "      <td>0</td>\n",
       "      <td>430</td>\n",
       "      <td>9</td>\n",
       "    </tr>\n",
       "    <tr>\n",
       "      <th>1</th>\n",
       "      <td>0</td>\n",
       "      <td>1004</td>\n",
       "      <td>5</td>\n",
       "    </tr>\n",
       "  </tbody>\n",
       "</table>\n",
       "</div>"
      ],
      "text/plain": [
       "   user_id  anime_id  rating\n",
       "0        0       430       9\n",
       "1        0      1004       5"
      ]
     },
     "metadata": {},
     "output_type": "display_data"
    },
    {
     "name": "stdout",
     "output_type": "stream",
     "text": [
      "unique user ID: \t310059, unique anime ID: \t16872\n",
      "max user ID: \t\t353404, max anime ID:  \t\t48456\n"
     ]
    }
   ],
   "source": [
    "rating = pd.read_csv('../input/anime-recommendation-database-2020/rating_complete.csv')\n",
    "\n",
    "display(rating.shape)\n",
    "display(rating.head(2))\n",
    "\n",
    "print(\"unique user ID: \\t{}, unique anime ID: \\t{}\".format(rating['user_id'].nunique(), rating['anime_id'].nunique()))\n",
    "print(\"max user ID: \\t\\t{}, max anime ID:  \\t\\t{}\".format(rating['user_id'].max(), rating['anime_id'].max()))"
   ]
  },
  {
   "cell_type": "markdown",
   "metadata": {
    "papermill": {
     "duration": 0.022549,
     "end_time": "2021-06-30T14:36:27.085706",
     "exception": false,
     "start_time": "2021-06-30T14:36:27.063157",
     "status": "completed"
    },
    "tags": []
   },
   "source": [
    "### Convert to csr_matrix from dataframe\n",
    "csr_matrix is a \"sparse matrix\". <br>\n",
    "Benefit:\n",
    "1) Lesser storage required due to no need store \"0\" values. <br>\n",
    "2) Computing time due to logically designed data structure that only contains non-zero values."
   ]
  },
  {
   "cell_type": "code",
   "execution_count": 6,
   "metadata": {
    "execution": {
     "iopub.execute_input": "2021-06-30T14:36:27.135454Z",
     "iopub.status.busy": "2021-06-30T14:36:27.134837Z",
     "iopub.status.idle": "2021-06-30T14:36:28.906108Z",
     "shell.execute_reply": "2021-06-30T14:36:28.905515Z",
     "shell.execute_reply.started": "2021-06-30T13:23:31.883595Z"
    },
    "papermill": {
     "duration": 1.798403,
     "end_time": "2021-06-30T14:36:28.906265",
     "exception": false,
     "start_time": "2021-06-30T14:36:27.107862",
     "status": "completed"
    },
    "tags": []
   },
   "outputs": [
    {
     "data": {
      "text/plain": [
       "(48457, 353405)"
      ]
     },
     "execution_count": 6,
     "metadata": {},
     "output_type": "execute_result"
    }
   ],
   "source": [
    "# for 1) anime based recommendation system\n",
    "\n",
    "matRating = csr_matrix((rating['rating'], (rating['anime_id'], rating['user_id'])))\n",
    "\n",
    "assert matRating.shape[0] == rating['anime_id'].max()+1   # max. ID of anime\n",
    "assert matRating.shape[1] == rating['user_id'].max()+1   # max. ID of user\n",
    "\n",
    "matRating.shape   # (max. ID of anime+1, max. ID of user+1), since ID start from 0"
   ]
  },
  {
   "cell_type": "code",
   "execution_count": 7,
   "metadata": {
    "execution": {
     "iopub.execute_input": "2021-06-30T14:36:28.956609Z",
     "iopub.status.busy": "2021-06-30T14:36:28.955683Z",
     "iopub.status.idle": "2021-06-30T14:36:32.752882Z",
     "shell.execute_reply": "2021-06-30T14:36:32.753387Z",
     "shell.execute_reply.started": "2021-06-30T13:23:33.598029Z"
    },
    "papermill": {
     "duration": 3.824961,
     "end_time": "2021-06-30T14:36:32.753565",
     "exception": false,
     "start_time": "2021-06-30T14:36:28.928604",
     "status": "completed"
    },
    "tags": []
   },
   "outputs": [
    {
     "data": {
      "text/plain": [
       "(353405, 48457)"
      ]
     },
     "execution_count": 7,
     "metadata": {},
     "output_type": "execute_result"
    }
   ],
   "source": [
    "# for 2) user based recommendation system\n",
    "\n",
    "matUser = csr_matrix((rating['rating'], (rating['user_id'], rating['anime_id'])))\n",
    "\n",
    "assert matUser.shape[0] == rating['user_id'].max()+1   # max. ID of user\n",
    "assert matUser.shape[1] == rating['anime_id'].max()+1   # max. ID of anime\n",
    "\n",
    "matUser.shape   # (max. ID of user+1, max. ID of anime+1), since ID start from 0"
   ]
  },
  {
   "cell_type": "markdown",
   "metadata": {
    "execution": {
     "iopub.execute_input": "2021-06-29T07:09:50.060352Z",
     "iopub.status.busy": "2021-06-29T07:09:50.059942Z",
     "iopub.status.idle": "2021-06-29T07:09:50.065613Z",
     "shell.execute_reply": "2021-06-29T07:09:50.063678Z",
     "shell.execute_reply.started": "2021-06-29T07:09:50.060318Z"
    },
    "papermill": {
     "duration": 0.022097,
     "end_time": "2021-06-30T14:36:32.798157",
     "exception": false,
     "start_time": "2021-06-30T14:36:32.776060",
     "status": "completed"
    },
    "tags": []
   },
   "source": [
    "### Release unuseful memory"
   ]
  },
  {
   "cell_type": "code",
   "execution_count": 8,
   "metadata": {
    "execution": {
     "iopub.execute_input": "2021-06-30T14:36:32.850692Z",
     "iopub.status.busy": "2021-06-30T14:36:32.850030Z",
     "iopub.status.idle": "2021-06-30T14:36:32.854651Z",
     "shell.execute_reply": "2021-06-30T14:36:32.854218Z",
     "shell.execute_reply.started": "2021-06-30T13:23:44.377751Z"
    },
    "papermill": {
     "duration": 0.034183,
     "end_time": "2021-06-30T14:36:32.854784",
     "exception": false,
     "start_time": "2021-06-30T14:36:32.820601",
     "status": "completed"
    },
    "tags": []
   },
   "outputs": [
    {
     "name": "stdout",
     "output_type": "stream",
     "text": [
      "Memory of rating dataframe:  1.29 GB\n",
      "Memory of csr_matrix of matRating:  0.64 GB\n",
      "Memory of csr_matrix of matUser:  0.65 GB\n"
     ]
    }
   ],
   "source": [
    "# check memory usage (in GB)\n",
    "from sys import getsizeof\n",
    "\n",
    "def printSizeInGB(byte):\n",
    "    return \" \".join((format(byte/1024/1024/1024, \".2f\"), \"GB\"))\n",
    "\n",
    "def csrMatrixGetsizeof(mat):\n",
    "    return mat.data.nbytes + mat.indptr.nbytes + mat.indices.nbytes\n",
    "\n",
    "print(\"Memory of rating dataframe: \", printSizeInGB(getsizeof(rating)))\n",
    "print(\"Memory of csr_matrix of matRating: \", printSizeInGB(csrMatrixGetsizeof(matRating)))\n",
    "print(\"Memory of csr_matrix of matUser: \", printSizeInGB(csrMatrixGetsizeof(matUser)))"
   ]
  },
  {
   "cell_type": "code",
   "execution_count": 9,
   "metadata": {
    "execution": {
     "iopub.execute_input": "2021-06-30T14:36:33.007523Z",
     "iopub.status.busy": "2021-06-30T14:36:33.006911Z",
     "iopub.status.idle": "2021-06-30T14:36:33.010655Z",
     "shell.execute_reply": "2021-06-30T14:36:33.011045Z",
     "shell.execute_reply.started": "2021-06-30T13:23:50.85433Z"
    },
    "papermill": {
     "duration": 0.133246,
     "end_time": "2021-06-30T14:36:33.011228",
     "exception": false,
     "start_time": "2021-06-30T14:36:32.877982",
     "status": "completed"
    },
    "tags": []
   },
   "outputs": [
    {
     "data": {
      "text/plain": [
       "20"
      ]
     },
     "execution_count": 9,
     "metadata": {},
     "output_type": "execute_result"
    }
   ],
   "source": [
    "# release memory of rating dataframe\n",
    "import gc\n",
    "del rating\n",
    "gc.collect()"
   ]
  },
  {
   "cell_type": "markdown",
   "metadata": {
    "papermill": {
     "duration": 0.022525,
     "end_time": "2021-06-30T14:36:33.056632",
     "exception": false,
     "start_time": "2021-06-30T14:36:33.034107",
     "status": "completed"
    },
    "tags": []
   },
   "source": [
    "## 1) Anime based recommendation system"
   ]
  },
  {
   "cell_type": "code",
   "execution_count": 10,
   "metadata": {
    "execution": {
     "iopub.execute_input": "2021-06-30T14:36:33.106117Z",
     "iopub.status.busy": "2021-06-30T14:36:33.105558Z",
     "iopub.status.idle": "2021-06-30T14:36:33.379641Z",
     "shell.execute_reply": "2021-06-30T14:36:33.380044Z",
     "shell.execute_reply.started": "2021-06-30T13:24:05.668858Z"
    },
    "papermill": {
     "duration": 0.300866,
     "end_time": "2021-06-30T14:36:33.380230",
     "exception": false,
     "start_time": "2021-06-30T14:36:33.079364",
     "status": "completed"
    },
    "tags": []
   },
   "outputs": [
    {
     "data": {
      "text/plain": [
       "NearestNeighbors(metric='cosine')"
      ]
     },
     "execution_count": 10,
     "metadata": {},
     "output_type": "execute_result"
    }
   ],
   "source": [
    "animeKNN = NearestNeighbors(metric=\"cosine\")\n",
    "animeKNN.fit(matRating)"
   ]
  },
  {
   "cell_type": "code",
   "execution_count": 12,
   "metadata": {
    "execution": {
     "iopub.execute_input": "2021-06-30T14:36:33.487935Z",
     "iopub.status.busy": "2021-06-30T14:36:33.487370Z",
     "iopub.status.idle": "2021-06-30T14:36:33.490148Z",
     "shell.execute_reply": "2021-06-30T14:36:33.489577Z",
     "shell.execute_reply.started": "2021-06-30T13:30:21.349523Z"
    },
    "papermill": {
     "duration": 0.03374,
     "end_time": "2021-06-30T14:36:33.490299",
     "exception": false,
     "start_time": "2021-06-30T14:36:33.456559",
     "status": "completed"
    },
    "tags": []
   },
   "outputs": [],
   "source": [
    "def getAnimeKNN(inputAnimeId, noOfNeighbors, lengthOfRecommendationList):\n",
    "#     print(\"\\n noOfNeighbors \" , noOfNeighbors)\n",
    "    \n",
    "    distances, indices = animeKNN.kneighbors(matRating[inputAnimeId], n_neighbors=noOfNeighbors + 1)  # avoid this.inputAnimeId\n",
    "    i, d = indices.flatten().tolist(), distances.flatten().tolist()\n",
    "    \n",
    "    rawRecommendList = list(zip(i,d))\n",
    "#     print(rawRecommendList)\n",
    "    \n",
    "    # get anime name for recommendation list\n",
    "    recommendationList = []\n",
    "    for i, (id, distance) in enumerate(rawRecommendList[1:]):  # index, distance, remove first item(avoid this.inputAnime)\n",
    "        anime = getAnimeNameById(id)\n",
    "        if anime:\n",
    "            recommendationList.append({\"Order\": i+1, \"Anime ID\": id, \"Anime Name\": getAnimeNameById(id)})\n",
    "        \n",
    "    if len(recommendationList) < lengthOfRecommendationList:\n",
    "#         print(\"len of re list\", len(recommendationList))\n",
    "#         print(\"lengthOfRecommendationList\", lengthOfRecommendationList)\n",
    "        \n",
    "        recommendationList = getAnimeKNN(inputAnimeId, noOfNeighbors-len(recommendationList)+noOfNeighbors, lengthOfRecommendationList)\n",
    "#     display(recommendationList)\n",
    "    return recommendationList\n",
    "    \n",
    "\n",
    "def getAnimeRecommendationList(inputAnimeName, lengthOfRecommendationList):\n",
    "    \n",
    "    inputAnimeId = getAnimeIdByName(inputAnimeName)      # id \n",
    "#     print(f\"input anime id = {inputAnimeId}\")\n",
    "    \n",
    "    recommendationList = getAnimeKNN(inputAnimeId, lengthOfRecommendationList, lengthOfRecommendationList)\n",
    "      \n",
    "    \n",
    "    return pd.DataFrame(recommendationList[:lengthOfRecommendationList]).drop(\"Order\", axis=1).style.set_properties(**{'text-align': 'left'})\n"
   ]
  },
  {
   "cell_type": "code",
   "execution_count": 13,
   "metadata": {
    "execution": {
     "iopub.execute_input": "2021-06-30T14:36:33.583798Z",
     "iopub.status.busy": "2021-06-30T14:36:33.578642Z",
     "iopub.status.idle": "2021-06-30T14:36:37.584729Z",
     "shell.execute_reply": "2021-06-30T14:36:37.584152Z",
     "shell.execute_reply.started": "2021-06-30T13:31:13.299759Z"
    },
    "papermill": {
     "duration": 4.071233,
     "end_time": "2021-06-30T14:36:37.584865",
     "exception": false,
     "start_time": "2021-06-30T14:36:33.513632",
     "status": "completed"
    },
    "tags": []
   },
   "outputs": [
    {
     "data": {
      "text/html": [
       "<style  type=\"text/css\" >\n",
       "#T_582e0_row0_col0,#T_582e0_row0_col1,#T_582e0_row1_col0,#T_582e0_row1_col1,#T_582e0_row2_col0,#T_582e0_row2_col1,#T_582e0_row3_col0,#T_582e0_row3_col1,#T_582e0_row4_col0,#T_582e0_row4_col1,#T_582e0_row5_col0,#T_582e0_row5_col1{\n",
       "            text-align:  left;\n",
       "        }</style><table id=\"T_582e0_\" ><thead>    <tr>        <th class=\"blank level0\" ></th>        <th class=\"col_heading level0 col0\" >Anime ID</th>        <th class=\"col_heading level0 col1\" >Anime Name</th>    </tr></thead><tbody>\n",
       "                <tr>\n",
       "                        <th id=\"T_582e0_level0_row0\" class=\"row_heading level0 row0\" >0</th>\n",
       "                        <td id=\"T_582e0_row0_col0\" class=\"data row0 col0\" >6811</td>\n",
       "                        <td id=\"T_582e0_row0_col1\" class=\"data row0 col1\" >InuYasha: Kanketsu-hen</td>\n",
       "            </tr>\n",
       "            <tr>\n",
       "                        <th id=\"T_582e0_level0_row1\" class=\"row_heading level0 row1\" >1</th>\n",
       "                        <td id=\"T_582e0_row1_col0\" class=\"data row1 col0\" >450</td>\n",
       "                        <td id=\"T_582e0_row1_col1\" class=\"data row1 col1\" >InuYasha Movie 2: Kagami no Naka no Mugenjo</td>\n",
       "            </tr>\n",
       "            <tr>\n",
       "                        <th id=\"T_582e0_level0_row2\" class=\"row_heading level0 row2\" >2</th>\n",
       "                        <td id=\"T_582e0_row2_col0\" class=\"data row2 col0\" >452</td>\n",
       "                        <td id=\"T_582e0_row2_col1\" class=\"data row2 col1\" >InuYasha Movie 1: Toki wo Koeru Omoi</td>\n",
       "            </tr>\n",
       "            <tr>\n",
       "                        <th id=\"T_582e0_level0_row3\" class=\"row_heading level0 row3\" >3</th>\n",
       "                        <td id=\"T_582e0_row3_col0\" class=\"data row3 col0\" >451</td>\n",
       "                        <td id=\"T_582e0_row3_col1\" class=\"data row3 col1\" >InuYasha Movie 3: Tenka Hadou no Ken</td>\n",
       "            </tr>\n",
       "            <tr>\n",
       "                        <th id=\"T_582e0_level0_row4\" class=\"row_heading level0 row4\" >4</th>\n",
       "                        <td id=\"T_582e0_row4_col0\" class=\"data row4 col0\" >449</td>\n",
       "                        <td id=\"T_582e0_row4_col1\" class=\"data row4 col1\" >InuYasha Movie 4: Guren no Houraijima</td>\n",
       "            </tr>\n",
       "            <tr>\n",
       "                        <th id=\"T_582e0_level0_row5\" class=\"row_heading level0 row5\" >5</th>\n",
       "                        <td id=\"T_582e0_row5_col0\" class=\"data row5 col0\" >121</td>\n",
       "                        <td id=\"T_582e0_row5_col1\" class=\"data row5 col1\" >Fullmetal Alchemist</td>\n",
       "            </tr>\n",
       "    </tbody></table>"
      ],
      "text/plain": [
       "<pandas.io.formats.style.Styler at 0x7f5f22db4d90>"
      ]
     },
     "execution_count": 13,
     "metadata": {},
     "output_type": "execute_result"
    }
   ],
   "source": [
    "inputAnimeName = \"InuYashaa \"\n",
    "lengthOfRecommendationList = 6\n",
    "getAnimeRecommendationList(inputAnimeName, lengthOfRecommendationList)"
   ]
  },
  {
   "cell_type": "code",
   "execution_count": 14,
   "metadata": {
    "execution": {
     "iopub.execute_input": "2021-06-30T14:36:37.638354Z",
     "iopub.status.busy": "2021-06-30T14:36:37.637768Z",
     "iopub.status.idle": "2021-06-30T14:36:41.262632Z",
     "shell.execute_reply": "2021-06-30T14:36:41.263060Z",
     "shell.execute_reply.started": "2021-06-30T13:31:17.200337Z"
    },
    "papermill": {
     "duration": 3.654784,
     "end_time": "2021-06-30T14:36:41.263240",
     "exception": false,
     "start_time": "2021-06-30T14:36:37.608456",
     "status": "completed"
    },
    "tags": []
   },
   "outputs": [
    {
     "data": {
      "text/html": [
       "<style  type=\"text/css\" >\n",
       "#T_05af6_row0_col0,#T_05af6_row0_col1,#T_05af6_row1_col0,#T_05af6_row1_col1,#T_05af6_row2_col0,#T_05af6_row2_col1,#T_05af6_row3_col0,#T_05af6_row3_col1,#T_05af6_row4_col0,#T_05af6_row4_col1,#T_05af6_row5_col0,#T_05af6_row5_col1{\n",
       "            text-align:  left;\n",
       "        }</style><table id=\"T_05af6_\" ><thead>    <tr>        <th class=\"blank level0\" ></th>        <th class=\"col_heading level0 col0\" >Anime ID</th>        <th class=\"col_heading level0 col1\" >Anime Name</th>    </tr></thead><tbody>\n",
       "                <tr>\n",
       "                        <th id=\"T_05af6_level0_row0\" class=\"row_heading level0 row0\" >0</th>\n",
       "                        <td id=\"T_05af6_row0_col0\" class=\"data row0 col0\" >40591</td>\n",
       "                        <td id=\"T_05af6_row0_col1\" class=\"data row0 col1\" >Kaguya-sama wa Kokurasetai?: Tensai-tachi no Renai Zunousen</td>\n",
       "            </tr>\n",
       "            <tr>\n",
       "                        <th id=\"T_05af6_level0_row1\" class=\"row_heading level0 row1\" >1</th>\n",
       "                        <td id=\"T_05af6_row1_col0\" class=\"data row1 col0\" >37450</td>\n",
       "                        <td id=\"T_05af6_row1_col1\" class=\"data row1 col1\" >Seishun Buta Yarou wa Bunny Girl Senpai no Yume wo Minai</td>\n",
       "            </tr>\n",
       "            <tr>\n",
       "                        <th id=\"T_05af6_level0_row2\" class=\"row_heading level0 row2\" >2</th>\n",
       "                        <td id=\"T_05af6_row2_col0\" class=\"data row2 col0\" >38000</td>\n",
       "                        <td id=\"T_05af6_row2_col1\" class=\"data row2 col1\" >Kimetsu no Yaiba</td>\n",
       "            </tr>\n",
       "            <tr>\n",
       "                        <th id=\"T_05af6_level0_row3\" class=\"row_heading level0 row3\" >3</th>\n",
       "                        <td id=\"T_05af6_row3_col0\" class=\"data row3 col0\" >32937</td>\n",
       "                        <td id=\"T_05af6_row3_col1\" class=\"data row3 col1\" >Kono Subarashii Sekai ni Shukufuku wo! 2</td>\n",
       "            </tr>\n",
       "            <tr>\n",
       "                        <th id=\"T_05af6_level0_row4\" class=\"row_heading level0 row4\" >4</th>\n",
       "                        <td id=\"T_05af6_row4_col0\" class=\"data row4 col0\" >30831</td>\n",
       "                        <td id=\"T_05af6_row4_col1\" class=\"data row4 col1\" >Kono Subarashii Sekai ni Shukufuku wo!</td>\n",
       "            </tr>\n",
       "            <tr>\n",
       "                        <th id=\"T_05af6_level0_row5\" class=\"row_heading level0 row5\" >5</th>\n",
       "                        <td id=\"T_05af6_row5_col0\" class=\"data row5 col0\" >37779</td>\n",
       "                        <td id=\"T_05af6_row5_col1\" class=\"data row5 col1\" >Yakusoku no Neverland</td>\n",
       "            </tr>\n",
       "    </tbody></table>"
      ],
      "text/plain": [
       "<pandas.io.formats.style.Styler at 0x7f5f04a2e6d0>"
      ]
     },
     "execution_count": 14,
     "metadata": {},
     "output_type": "execute_result"
    }
   ],
   "source": [
    "getAnimeRecommendationList(\"Kaguya-sama wa Kokurasetai: Tensai-tachi no Renai Zunousen\", 6)"
   ]
  },
  {
   "cell_type": "markdown",
   "metadata": {
    "papermill": {
     "duration": 0.024189,
     "end_time": "2021-06-30T14:36:41.311488",
     "exception": false,
     "start_time": "2021-06-30T14:36:41.287299",
     "status": "completed"
    },
    "tags": []
   },
   "source": [
    "## 2) User based recommendation system"
   ]
  },
  {
   "cell_type": "code",
   "execution_count": 15,
   "metadata": {
    "execution": {
     "iopub.execute_input": "2021-06-30T14:36:41.364124Z",
     "iopub.status.busy": "2021-06-30T14:36:41.363536Z",
     "iopub.status.idle": "2021-06-30T14:36:41.630271Z",
     "shell.execute_reply": "2021-06-30T14:36:41.630735Z",
     "shell.execute_reply.started": "2021-06-30T13:31:24.708547Z"
    },
    "papermill": {
     "duration": 0.295008,
     "end_time": "2021-06-30T14:36:41.630903",
     "exception": false,
     "start_time": "2021-06-30T14:36:41.335895",
     "status": "completed"
    },
    "tags": []
   },
   "outputs": [
    {
     "data": {
      "text/plain": [
       "NearestNeighbors(metric='cosine')"
      ]
     },
     "execution_count": 15,
     "metadata": {},
     "output_type": "execute_result"
    }
   ],
   "source": [
    "userKNN = NearestNeighbors(metric=\"cosine\")\n",
    "userKNN.fit(matUser)"
   ]
  },
  {
   "cell_type": "code",
   "execution_count": 16,
   "metadata": {
    "execution": {
     "iopub.execute_input": "2021-06-30T14:36:41.688642Z",
     "iopub.status.busy": "2021-06-30T14:36:41.687967Z",
     "iopub.status.idle": "2021-06-30T14:36:41.690437Z",
     "shell.execute_reply": "2021-06-30T14:36:41.690904Z",
     "shell.execute_reply.started": "2021-06-30T13:32:16.260336Z"
    },
    "papermill": {
     "duration": 0.036053,
     "end_time": "2021-06-30T14:36:41.691068",
     "exception": false,
     "start_time": "2021-06-30T14:36:41.655015",
     "status": "completed"
    },
    "tags": []
   },
   "outputs": [],
   "source": [
    "def getUserRecommendationList(inputUserId, lengthOfRecommendationList = 10, noOfNeighbors = 5):\n",
    "        \n",
    "    distances, indices = userKNN.kneighbors(matUser[inputUserId], n_neighbors=noOfNeighbors + 1)  # avoid this.inputAnimeId\n",
    "    i, d = indices.flatten().tolist()[1:], distances.flatten().tolist()[1:]   # skip first user (this.userId)\n",
    "    \n",
    "    rawRecommendList = list(zip(i,d))\n",
    "    \n",
    "    # get user's rating record\n",
    "    userRatingList = matUser[88895].toarray()[0]\n",
    "    \n",
    "    # get nearest k user's rating\n",
    "    nearUserId = i\n",
    "    similarity = pd.Series(d)\n",
    "    similarity.update(1-similarity)   # 1 = highly similar\n",
    "    \n",
    "    # find the highest similarity anime\n",
    "    nearUserDF = pd.DataFrame(matUser[nearUserId].toarray())   # (row, column) = (K user, anime)\n",
    "    nearUserDF.replace(0, np.nan, inplace=True)\n",
    "    nearUserDF = nearUserDF.mul(similarity, axis=0)  # weighted rating matrix \n",
    "    recommendScore = nearUserDF.mean(axis=0)   # score of every anime\n",
    "    recommendScore = recommendScore.dropna().sort_values(ascending=False)  # sort anime list by score\n",
    "    \n",
    "    # get anime name for recommendation list\n",
    "    recommendationList = []\n",
    "    for i, (id, sim) in enumerate(recommendScore.items()):\n",
    "        if userRatingList[id] == 0:\n",
    "            # user have not viewed this anime\n",
    "            anime = getAnimeNameById(id)\n",
    "            if anime:\n",
    "                recommendationList.append({\"Order\": i+1, \"Anime ID\": id, \"Anime Name\": getAnimeNameById(id)})\n",
    "                \n",
    "        if len(recommendationList) == lengthOfRecommendationList:\n",
    "            # stop when enough recommended anime exists \n",
    "            break\n",
    "            \n",
    "    return pd.DataFrame(recommendationList[:lengthOfRecommendationList]).drop(\"Order\", axis=1).style.set_properties(**{'text-align': 'left'})"
   ]
  },
  {
   "cell_type": "code",
   "execution_count": 17,
   "metadata": {
    "execution": {
     "iopub.execute_input": "2021-06-30T14:36:41.742322Z",
     "iopub.status.busy": "2021-06-30T14:36:41.741748Z",
     "iopub.status.idle": "2021-06-30T14:36:56.778254Z",
     "shell.execute_reply": "2021-06-30T14:36:56.777686Z",
     "shell.execute_reply.started": "2021-06-30T13:32:22.299307Z"
    },
    "papermill": {
     "duration": 15.063083,
     "end_time": "2021-06-30T14:36:56.778385",
     "exception": false,
     "start_time": "2021-06-30T14:36:41.715302",
     "status": "completed"
    },
    "tags": []
   },
   "outputs": [
    {
     "data": {
      "text/html": [
       "<style  type=\"text/css\" >\n",
       "#T_b1d7f_row0_col0,#T_b1d7f_row0_col1,#T_b1d7f_row1_col0,#T_b1d7f_row1_col1,#T_b1d7f_row2_col0,#T_b1d7f_row2_col1,#T_b1d7f_row3_col0,#T_b1d7f_row3_col1,#T_b1d7f_row4_col0,#T_b1d7f_row4_col1,#T_b1d7f_row5_col0,#T_b1d7f_row5_col1{\n",
       "            text-align:  left;\n",
       "        }</style><table id=\"T_b1d7f_\" ><thead>    <tr>        <th class=\"blank level0\" ></th>        <th class=\"col_heading level0 col0\" >Anime ID</th>        <th class=\"col_heading level0 col1\" >Anime Name</th>    </tr></thead><tbody>\n",
       "                <tr>\n",
       "                        <th id=\"T_b1d7f_level0_row0\" class=\"row_heading level0 row0\" >0</th>\n",
       "                        <td id=\"T_b1d7f_row0_col0\" class=\"data row0 col0\" >4280</td>\n",
       "                        <td id=\"T_b1d7f_row0_col1\" class=\"data row0 col1\" >Kara no Kyoukai 4: Garan no Dou</td>\n",
       "            </tr>\n",
       "            <tr>\n",
       "                        <th id=\"T_b1d7f_level0_row1\" class=\"row_heading level0 row1\" >1</th>\n",
       "                        <td id=\"T_b1d7f_row1_col0\" class=\"data row1 col0\" >3783</td>\n",
       "                        <td id=\"T_b1d7f_row1_col1\" class=\"data row1 col1\" >Kara no Kyoukai 3: Tsuukaku Zanryuu</td>\n",
       "            </tr>\n",
       "            <tr>\n",
       "                        <th id=\"T_b1d7f_level0_row2\" class=\"row_heading level0 row2\" >2</th>\n",
       "                        <td id=\"T_b1d7f_row2_col0\" class=\"data row2 col0\" >37491</td>\n",
       "                        <td id=\"T_b1d7f_row2_col1\" class=\"data row2 col1\" >Gintama.: Shirogane no Tamashii-hen - Kouhan-sen</td>\n",
       "            </tr>\n",
       "            <tr>\n",
       "                        <th id=\"T_b1d7f_level0_row3\" class=\"row_heading level0 row3\" >3</th>\n",
       "                        <td id=\"T_b1d7f_row3_col0\" class=\"data row3 col0\" >5204</td>\n",
       "                        <td id=\"T_b1d7f_row3_col1\" class=\"data row3 col1\" >Kara no Kyoukai 6: Boukyaku Rokuon</td>\n",
       "            </tr>\n",
       "            <tr>\n",
       "                        <th id=\"T_b1d7f_level0_row4\" class=\"row_heading level0 row4\" >4</th>\n",
       "                        <td id=\"T_b1d7f_row4_col0\" class=\"data row4 col0\" >44</td>\n",
       "                        <td id=\"T_b1d7f_row4_col1\" class=\"data row4 col1\" >Rurouni Kenshin: Meiji Kenkaku Romantan - Tsuioku-hen</td>\n",
       "            </tr>\n",
       "            <tr>\n",
       "                        <th id=\"T_b1d7f_level0_row5\" class=\"row_heading level0 row5\" >5</th>\n",
       "                        <td id=\"T_b1d7f_row5_col0\" class=\"data row5 col0\" >5941</td>\n",
       "                        <td id=\"T_b1d7f_row5_col1\" class=\"data row5 col1\" >Cross Game</td>\n",
       "            </tr>\n",
       "    </tbody></table>"
      ],
      "text/plain": [
       "<pandas.io.formats.style.Styler at 0x7f5f22db4f50>"
      ]
     },
     "execution_count": 17,
     "metadata": {},
     "output_type": "execute_result"
    }
   ],
   "source": [
    "userId = 88895\n",
    "lengthOfRecommendationList = 6\n",
    "getUserRecommendationList(userId, lengthOfRecommendationList)"
   ]
  },
  {
   "cell_type": "code",
   "execution_count": 18,
   "metadata": {
    "execution": {
     "iopub.execute_input": "2021-06-30T14:36:56.832385Z",
     "iopub.status.busy": "2021-06-30T14:36:56.831809Z",
     "iopub.status.idle": "2021-06-30T14:37:11.819409Z",
     "shell.execute_reply": "2021-06-30T14:37:11.819862Z",
     "shell.execute_reply.started": "2021-06-30T13:33:14.376872Z"
    },
    "papermill": {
     "duration": 15.0172,
     "end_time": "2021-06-30T14:37:11.820029",
     "exception": false,
     "start_time": "2021-06-30T14:36:56.802829",
     "status": "completed"
    },
    "tags": []
   },
   "outputs": [
    {
     "data": {
      "text/html": [
       "<style  type=\"text/css\" >\n",
       "#T_2b9a2_row0_col0,#T_2b9a2_row0_col1,#T_2b9a2_row1_col0,#T_2b9a2_row1_col1,#T_2b9a2_row2_col0,#T_2b9a2_row2_col1,#T_2b9a2_row3_col0,#T_2b9a2_row3_col1,#T_2b9a2_row4_col0,#T_2b9a2_row4_col1{\n",
       "            text-align:  left;\n",
       "        }</style><table id=\"T_2b9a2_\" ><thead>    <tr>        <th class=\"blank level0\" ></th>        <th class=\"col_heading level0 col0\" >Anime ID</th>        <th class=\"col_heading level0 col1\" >Anime Name</th>    </tr></thead><tbody>\n",
       "                <tr>\n",
       "                        <th id=\"T_2b9a2_level0_row0\" class=\"row_heading level0 row0\" >0</th>\n",
       "                        <td id=\"T_2b9a2_row0_col0\" class=\"data row0 col0\" >1571</td>\n",
       "                        <td id=\"T_2b9a2_row0_col1\" class=\"data row0 col1\" >Ghost Hunt</td>\n",
       "            </tr>\n",
       "            <tr>\n",
       "                        <th id=\"T_2b9a2_level0_row1\" class=\"row_heading level0 row1\" >1</th>\n",
       "                        <td id=\"T_2b9a2_row1_col0\" class=\"data row1 col0\" >270</td>\n",
       "                        <td id=\"T_2b9a2_row1_col1\" class=\"data row1 col1\" >Hellsing</td>\n",
       "            </tr>\n",
       "            <tr>\n",
       "                        <th id=\"T_2b9a2_level0_row2\" class=\"row_heading level0 row2\" >2</th>\n",
       "                        <td id=\"T_2b9a2_row2_col0\" class=\"data row2 col0\" >459</td>\n",
       "                        <td id=\"T_2b9a2_row2_col1\" class=\"data row2 col1\" >One Piece Movie 1</td>\n",
       "            </tr>\n",
       "            <tr>\n",
       "                        <th id=\"T_2b9a2_level0_row3\" class=\"row_heading level0 row3\" >3</th>\n",
       "                        <td id=\"T_2b9a2_row3_col0\" class=\"data row3 col0\" >585</td>\n",
       "                        <td id=\"T_2b9a2_row3_col1\" class=\"data row3 col1\" >Mimi wo Sumaseba</td>\n",
       "            </tr>\n",
       "            <tr>\n",
       "                        <th id=\"T_2b9a2_level0_row4\" class=\"row_heading level0 row4\" >4</th>\n",
       "                        <td id=\"T_2b9a2_row4_col0\" class=\"data row4 col0\" >2251</td>\n",
       "                        <td id=\"T_2b9a2_row4_col1\" class=\"data row4 col1\" >Baccano!</td>\n",
       "            </tr>\n",
       "    </tbody></table>"
      ],
      "text/plain": [
       "<pandas.io.formats.style.Styler at 0x7f5f06d4be10>"
      ]
     },
     "execution_count": 18,
     "metadata": {},
     "output_type": "execute_result"
    }
   ],
   "source": [
    "getUserRecommendationList(0, 5)"
   ]
  }
 ],
 "metadata": {
  "interpreter": {
   "hash": "e5b30d027cd5d6551e0ca64586cec9434604c5c94347cd566128c059f6e75d28"
  },
  "kernelspec": {
   "display_name": "Python 3.8.6 64-bit",
   "name": "python3"
  },
  "language_info": {
   "name": "python",
   "version": ""
  },
  "papermill": {
   "default_parameters": {},
   "duration": 89.449981,
   "end_time": "2021-06-30T14:37:26.318835",
   "environment_variables": {},
   "exception": null,
   "input_path": "__notebook__.ipynb",
   "output_path": "__notebook__.ipynb",
   "parameters": {},
   "start_time": "2021-06-30T14:35:56.868854",
   "version": "2.3.3"
  }
 },
 "nbformat": 4,
 "nbformat_minor": 5
}